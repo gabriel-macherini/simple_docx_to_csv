{
 "cells": [
  {
   "cell_type": "code",
   "execution_count": 1,
   "id": "eca25c82-c511-4138-86b0-102157f756a7",
   "metadata": {},
   "outputs": [],
   "source": [
    "import os\n",
    "import re\n",
    "import docx2txt\n",
    "import pandas as pd\n",
    "import tkinter as tk\n",
    "from tkinter import filedialog"
   ]
  },
  {
   "cell_type": "markdown",
   "id": "41816e50-66bb-4172-a2e7-750633cf090c",
   "metadata": {},
   "source": [
    "Esse código só funciona com arquivos .docx e que não estão vazios (0 kbytes). Baseado nos Recibos da Campinas Notebook Celulares"
   ]
  },
  {
   "cell_type": "code",
   "execution_count": 2,
   "id": "5a2f9a2e-7edb-451f-99fd-c71d62e4c3e4",
   "metadata": {},
   "outputs": [],
   "source": [
    "def find_pattern(pattern,text):\n",
    "    target = re.compile(pattern)\n",
    "    finded = target.findall(text)\n",
    "    if len(finded) < 1:\n",
    "        finded = \"\"\n",
    "    return finded\n",
    "\n",
    "def find_largepattern(pattern,text):\n",
    "    match = re.search(pattern, text, re.DOTALL)\n",
    "    if match:\n",
    "        captured_text = match.group(1)\n",
    "    return captured_text.strip()\n",
    "\n",
    "def select_folder():\n",
    "    root = tk.Tk()\n",
    "    root.withdraw()\n",
    "    folder_path = filedialog.askdirectory()\n",
    "    if folder_path:\n",
    "        return folder_path\n"
   ]
  },
  {
   "cell_type": "code",
   "execution_count": 3,
   "id": "07dd781c-a30f-4922-aad8-a995eb709775",
   "metadata": {},
   "outputs": [],
   "source": [
    "# dataframe vazio\n",
    "full_data = pd.DataFrame(columns=['Arquivo', 'Recibo', 'Ordem de Servico',\n",
    "                                  'Data', 'Cliente', 'CPF/CNPJ', 'Telefone',\n",
    "                                 'Email', 'Endereco', 'Descrição'])"
   ]
  },
  {
   "cell_type": "code",
   "execution_count": null,
   "id": "83e9d88e-ee23-4968-9428-7d9d6e375f35",
   "metadata": {},
   "outputs": [],
   "source": [
    "folder_path = select_folder()\n",
    "os.chdir(folder_path)\n",
    "\n",
    "for file in os.listdir():\n",
    "    if file.endswith('.docx') == True:\n",
    "        text = docx2txt.process(file)\n",
    "        \n",
    "        # Nome do arquivo\n",
    "        arquivo = str(file)\n",
    "\n",
    "        # recibo\n",
    "        pattern = r'RECIBO #\\s?(.+)'\n",
    "        recibo = find_pattern(pattern, text)\n",
    "   \n",
    "        # oss\n",
    "        pattern = r'E-Mail\\n\\n(.+)'\n",
    "        oss = find_pattern(pattern, text)\n",
    "\n",
    "        # data\n",
    "        pattern = r'Data:\\s?(.+)\\n'\n",
    "        data_entrada = find_pattern(pattern, text)\n",
    "\n",
    "        # nome_cliente\n",
    "        pattern = r'Comprador\\(a\\):\\n\\n(.+)'\n",
    "        nome_cliente = find_pattern(pattern, text)\n",
    "        \n",
    "        # cpf_cnpj\n",
    "        pattern = r\"CPF/CNPJ:\\s*(.*)\\s*RG\"\n",
    "        cpf_cnpj = find_pattern(pattern, text)\n",
    "        cpf_cnpj[0] = cpf_cnpj[0].replace(\" \", \"\").replace(\"\\t\", \"\").replace(\"\\n\", \"\")\n",
    "\n",
    "        # telefone\n",
    "        pattern = r'Fone:(.+)'\n",
    "        telefone = find_pattern(pattern, text)\n",
    "        telefone[0] = telefone[0].replace(\" \", \"\").replace(\"\\t\", \"\").replace(\"\\n\", \"\")\n",
    "\n",
    "        # email\n",
    "        pattern = \"FOB\\n\\n(.*)\"\n",
    "        email = find_pattern(pattern, text)\n",
    " \n",
    "        # endereco\n",
    "        pattern = r'Comprador\\(a\\):\\n\\n.+\\n\\n(.+)'\n",
    "        endereco = find_pattern(pattern, text)\n",
    "\n",
    "        # descricao\n",
    "        pattern =r\"Gar\\. Mês(.*?)Peso\"\n",
    "        descricao = find_largepattern(pattern, text)\n",
    "        \n",
    "        # Create DataFrame\n",
    "        data = {\n",
    "            'Arquivo': arquivo,\n",
    "            'Recibo': recibo,\n",
    "            'Ordem de Servico': oss,\n",
    "            'Data': data_entrada,\n",
    "            'Cliente': nome_cliente,\n",
    "            'CPF/CNPJ': cpf_cnpj,\n",
    "            'Telefone': telefone,\n",
    "            'Email': email,\n",
    "            'Endereco': endereco,\n",
    "            'Descrição': descricao\n",
    "        }\n",
    "\n",
    "        info_word = pd.DataFrame(data)\n",
    "        \n",
    "        info_word['Descrição'] = info_word['Descrição'].str.replace(\"\\n\\n\", \" \")\n",
    "        info_word['Email'] = info_word['Email'].str.strip(\" \")\n",
    "       \n",
    "        full_data = pd.concat([full_data, info_word])\n"
   ]
  },
  {
   "cell_type": "code",
   "execution_count": null,
   "id": "26a5f0ea-9e6c-411c-9b86-fe8cc178c7e8",
   "metadata": {},
   "outputs": [],
   "source": [
    "full_data.to_csv(\"mail_list.csv\", encoding=(\"utf-8-sig\"))"
   ]
  }
 ],
 "metadata": {
  "kernelspec": {
   "display_name": "Python 3 (ipykernel)",
   "language": "python",
   "name": "python3"
  },
  "language_info": {
   "codemirror_mode": {
    "name": "ipython",
    "version": 3
   },
   "file_extension": ".py",
   "mimetype": "text/x-python",
   "name": "python",
   "nbconvert_exporter": "python",
   "pygments_lexer": "ipython3",
   "version": "3.10.9"
  }
 },
 "nbformat": 4,
 "nbformat_minor": 5
}
